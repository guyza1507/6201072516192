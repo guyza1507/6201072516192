{
  "cells": [
    {
      "cell_type": "markdown",
      "metadata": {
        "colab_type": "text",
        "id": "view-in-github"
      },
      "source": [
        "<a href=\"https://colab.research.google.com/github/jbinteam/010723305/blob/main/Homework9p2.ipynb\" target=\"_parent\"><img src=\"https://colab.research.google.com/assets/colab-badge.svg\" alt=\"Open In Colab\"/></a>"
      ]
    },
    {
      "cell_type": "code",
      "execution_count": 28,
      "metadata": {
        "colab": {
          "base_uri": "https://localhost:8080/"
        },
        "id": "nOBSUACuAO46",
        "outputId": "505ef385-a17e-4576-ab13-215036eeb504"
      },
      "outputs": [],
      "source": [
        "import cv2\n",
        "import numpy as np\n",
        "\n",
        "video = cv2.VideoCapture(\"videos/final_exam/left_output.mp4\")\n",
        "\n",
        "while True:\n",
        "    ret, orig_frame = video.read()\n",
        "    if not ret:\n",
        "        video = cv2.VideoCapture(\"videos/final_exam/left_output.mp4\")\n",
        "        continue\n",
        "    \n",
        "    frame = cv2.GaussianBlur(orig_frame, (5, 5), 0)\n",
        "    hsv = cv2.cvtColor(frame, cv2.COLOR_BGR2HSV)\n",
        "    \n",
        "    lower_yellow = np.array([24, 0, 0])\n",
        "    upper_yellow = np.array([25, 255, 255])\n",
        "    mask = cv2.inRange(hsv, lower_yellow, upper_yellow)\n",
        "    #edges = cv2.Canny(mask, 75, 150)\n",
        "    \n",
        "    lines = cv2.HoughLinesP(mask, 1, np.pi/180, 50, maxLineGap=50)\n",
        "    if lines is not None:\n",
        "        for line in lines:\n",
        "            x1, y1, x2, y2 = line[0]\n",
        "            cv2.line(frame, (x1, y1), (x2, y2), (0, 0, 255), 3)\n",
        "    \n",
        "    cv2.imshow(\"Frame\", frame)\n",
        "    #cv2.imshow(\"Edges\", edges)\n",
        "    \n",
        "    key = cv2.waitKey(25)\n",
        "    if key == 27 :\n",
        "        break\n",
        "    \n",
        "video.release()\n",
        "cv2.destroyAllWindows()"
      ]
    }
  ],
  "metadata": {
    "colab": {
      "collapsed_sections": [],
      "include_colab_link": true,
      "name": "Lecture_9_Image_warping_Panorama.ipynb",
      "provenance": []
    },
    "interpreter": {
      "hash": "1903acc1088328865d6592a55e57f5630d3a96769e233f5af3f2718a99a8afc6"
    },
    "kernelspec": {
      "display_name": "Python 3.9.6 64-bit",
      "name": "python3"
    },
    "language_info": {
      "codemirror_mode": {
        "name": "ipython",
        "version": 3
      },
      "file_extension": ".py",
      "mimetype": "text/x-python",
      "name": "python",
      "nbconvert_exporter": "python",
      "pygments_lexer": "ipython3",
      "version": "3.9.6"
    },
    "orig_nbformat": 4
  },
  "nbformat": 4,
  "nbformat_minor": 2
}
