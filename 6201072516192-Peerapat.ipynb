{
  "cells": [
    {
      "cell_type": "markdown",
      "metadata": {
        "colab_type": "text",
        "id": "view-in-github"
      },
      "source": [
        "<a href=\"https://colab.research.google.com/github/jbinteam/010723305/blob/main/Homework9p2.ipynb\" target=\"_parent\"><img src=\"https://colab.research.google.com/assets/colab-badge.svg\" alt=\"Open In Colab\"/></a>"
      ]
    },
    {
      "cell_type": "code",
      "execution_count": 1,
      "metadata": {
        "colab": {
          "base_uri": "https://localhost:8080/"
        },
        "id": "nOBSUACuAO46",
        "outputId": "505ef385-a17e-4576-ab13-215036eeb504"
      },
      "outputs": [
        {
          "name": "stdout",
          "output_type": "stream",
          "text": [
            "Requirement already satisfied: opencv-contrib-python==4.5.3.56 in c:\\users\\peerapat\\appdata\\local\\programs\\python\\python39\\lib\\site-packages (4.5.3.56)\n",
            "Requirement already satisfied: numpy>=1.19.3 in c:\\users\\peerapat\\appdata\\local\\programs\\python\\python39\\lib\\site-packages (from opencv-contrib-python==4.5.3.56) (1.21.3)\n"
          ]
        }
      ],
      "source": [
        "!pip install  opencv-contrib-python==4.5.3.56\n",
        "import numpy as np\n",
        "import cv2\n",
        "\n",
        "vid = cv2.VideoCapture('./videos/final_exam/Dataset-2/left_output.avi')\n",
        "\n",
        "while vid.isOpened() :\n",
        "    ret, frame = vid.read()\n",
        "    gray=cv2.cvtColor(frame,cv2.COLOR_BGR2GRAY)\n",
        "    gray_blur=cv2.GaussianBlur(gray,(15,15),0)\n",
        "    thresh=cv2.adaptiveThreshold(gray_blur,255,cv2.ADAPTIVE_THRESH_GAUSSIAN_C,cv2.THRESH_BINARY_INV,11,4)\n",
        "    \n",
        "    if ret :\n",
        "        cv2.imshow('Video frame', thresh)\n",
        "\n",
        "        if cv2.waitKey(int(1000/30)) & 0xFF == ord('q') : \n",
        "            break\n",
        "    else :\n",
        "        break\n",
        "vid.release()\n",
        "cv2.destroyAllWindows()\n",
        " "
      ]
    }
  ],
  "metadata": {
    "colab": {
      "collapsed_sections": [],
      "include_colab_link": true,
      "name": "Lecture_9_Image_warping_Panorama.ipynb",
      "provenance": []
    },
    "interpreter": {
      "hash": "1903acc1088328865d6592a55e57f5630d3a96769e233f5af3f2718a99a8afc6"
    },
    "kernelspec": {
      "display_name": "Python 3.9.6 64-bit",
      "name": "python3"
    },
    "language_info": {
      "codemirror_mode": {
        "name": "ipython",
        "version": 3
      },
      "file_extension": ".py",
      "mimetype": "text/x-python",
      "name": "python",
      "nbconvert_exporter": "python",
      "pygments_lexer": "ipython3",
      "version": "3.9.6"
    },
    "orig_nbformat": 4
  },
  "nbformat": 4,
  "nbformat_minor": 2
}
